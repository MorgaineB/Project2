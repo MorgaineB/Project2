{
 "cells": [
  {
   "cell_type": "markdown",
   "metadata": {},
   "source": [
    "# Web-Scraping for Random Roller Coaster "
   ]
  },
  {
   "cell_type": "markdown",
   "metadata": {},
   "source": [
    "import tools needed"
   ]
  },
  {
   "cell_type": "code",
   "execution_count": 26,
   "metadata": {},
   "outputs": [],
   "source": [
    "import os\n",
    "from bs4 import BeautifulSoup as bs\n",
    "import requests\n",
    "from splinter import Browser\n",
    "from bs4 import BeautifulSoup\n",
    "from webdriver_manager.chrome import ChromeDriverManager\n",
    "import pandas as pd"
   ]
  },
  {
   "cell_type": "markdown",
   "metadata": {},
   "source": [
    "create path to browser"
   ]
  },
  {
   "cell_type": "code",
   "execution_count": 27,
   "metadata": {},
   "outputs": [
    {
     "name": "stderr",
     "output_type": "stream",
     "text": [
      "\n",
      "\n",
      "====== WebDriver manager ======\n",
      "Current google-chrome version is 91.0.4472\n",
      "Get LATEST driver version for 91.0.4472\n",
      "Driver [/Users/sydneycavallaro/.wdm/drivers/chromedriver/mac64/91.0.4472.101/chromedriver] found in cache\n"
     ]
    }
   ],
   "source": [
    "executable_path = {'executable_path': ChromeDriverManager().install()}\n",
    "browser = Browser('chrome', **executable_path, headless=False)"
   ]
  },
  {
   "cell_type": "markdown",
   "metadata": {},
   "source": [
    "create library to store data"
   ]
  },
  {
   "cell_type": "code",
   "execution_count": 28,
   "metadata": {},
   "outputs": [],
   "source": [
    "random_coaster = {}"
   ]
  },
  {
   "cell_type": "markdown",
   "metadata": {},
   "source": [
    "connection to URL"
   ]
  },
  {
   "cell_type": "code",
   "execution_count": 29,
   "metadata": {},
   "outputs": [],
   "source": [
    "url = \"https://rcdb.com\"\n",
    "browser.visit(url)"
   ]
  },
  {
   "cell_type": "markdown",
   "metadata": {},
   "source": [
    "find needed text"
   ]
  },
  {
   "cell_type": "code",
   "execution_count": 30,
   "metadata": {},
   "outputs": [],
   "source": [
    "html = browser.html\n",
    "soup = BeautifulSoup(html, 'html.parser')"
   ]
  },
  {
   "cell_type": "markdown",
   "metadata": {},
   "source": [
    "check to see if it worked"
   ]
  },
  {
   "cell_type": "code",
   "execution_count": 31,
   "metadata": {},
   "outputs": [
    {
     "data": {
      "text/plain": [
       "[<a aria-label=\"Random Roller Coaster\" href=\"/252.htm#p=16074\" id=\"rrc_pic\" style='display: inline-block; margin: 0px 6px 0px 0px; width: 291px; height: 388px; background-image: url(\"/aaaxuga\");'></a>,\n",
       " <a href=\"/\">Random Roller Coaster</a>,\n",
       " <a href=\"/252.htm\">Revolution</a>,\n",
       " <a href=\"/4592.htm\">Libertyland</a>,\n",
       " <a href=\"/location.htm?id=21589\">Memphis</a>,\n",
       " <a href=\"/location.htm?id=21087\">Tennessee</a>,\n",
       " <a href=\"/location.htm?id=59\">United States</a>,\n",
       " <a href=\"/6835.htm\">Arrow Dynamics</a>,\n",
       " <a href=\"/19446.htm\">Blizzard</a>,\n",
       " <a href=\"/5020.htm\">Lucky Star Park</a>,\n",
       " <a href=\"/location.htm?id=26040\">Aradippou</a>,\n",
       " <a href=\"/location.htm?id=26039\">Larnaca</a>,\n",
       " <a href=\"/location.htm?id=26038\">Cyprus</a>,\n",
       " <a href=\"/19445.htm\">unknown</a>,\n",
       " <a href=\"/19444.htm\">Kings Park</a>,\n",
       " <a href=\"/location.htm?id=13544\">Norfolk</a>,\n",
       " <a href=\"/location.htm?id=13312\">Nebraska</a>,\n",
       " <a href=\"/location.htm?id=59\">United States</a>,\n",
       " <a href=\"/19443.htm\">unknown</a>,\n",
       " <a href=\"/19442.htm\">Hialeah Park</a>,\n",
       " <a href=\"/location.htm?id=3636\">Hialeah</a>,\n",
       " <a href=\"/location.htm?id=3180\">Florida</a>,\n",
       " <a href=\"/location.htm?id=59\">United States</a>,\n",
       " <a href=\"/19439.htm\">unknown</a>,\n",
       " <a href=\"/19438.htm\">Transmart Tajur - Bogor</a>,\n",
       " <a href=\"/location.htm?id=56550\">Bogor</a>,\n",
       " <a href=\"/location.htm?id=26619\">West Java</a>,\n",
       " <a href=\"/location.htm?id=26618\">Indonesia</a>,\n",
       " <a href=\"/19437.htm\">Fruit Worm Coaster</a>,\n",
       " <a href=\"/19436.htm\">Beixiaohe Park</a>,\n",
       " <a href=\"/location.htm?id=57212\">Chaoyang</a>,\n",
       " <a href=\"/location.htm?id=26409\">Beijing</a>,\n",
       " <a href=\"/location.htm?id=26380\">China</a>,\n",
       " <a href=\"/19435.htm\">Children's Roller Coaster</a>,\n",
       " <a href=\"/19434.htm\">Jindi Plaza Go Go Park</a>,\n",
       " <a href=\"/location.htm?id=62191\">Hedong</a>,\n",
       " <a href=\"/location.htm?id=56726\">Tianjin</a>,\n",
       " <a href=\"/location.htm?id=26380\">China</a>,\n",
       " <a href=\"/19433.htm\">Cyclone</a>,\n",
       " <a href=\"/19432.htm\">Johore Safari World</a>,\n",
       " <a href=\"/location.htm?id=65760\">Simpang Renggam</a>,\n",
       " <a href=\"/location.htm?id=57391\">Johor</a>,\n",
       " <a href=\"/location.htm?id=26564\">Malaysia</a>,\n",
       " <a href=\"/19431.htm\">unknown</a>,\n",
       " <a href=\"/19430.htm\">Joypolis</a>,\n",
       " <a href=\"/location.htm?id=26386\">Guangzhou</a>,\n",
       " <a href=\"/location.htm?id=26381\">Guangdong</a>,\n",
       " <a href=\"/location.htm?id=26380\">China</a>,\n",
       " <a href=\"/19429.htm\">unknown</a>,\n",
       " <a href=\"/15997.htm\">Dragon Valley Theme Park</a>,\n",
       " <a href=\"/location.htm?id=57068\">Pukou</a>,\n",
       " <a href=\"/location.htm?id=57067\">Nanjing</a>,\n",
       " <a href=\"/location.htm?id=26412\">Jiangsu</a>,\n",
       " <a href=\"/location.htm?id=26380\">China</a>,\n",
       " <a href=\"/19428.htm\">unknown</a>,\n",
       " <a href=\"/19427.htm\">Yuhuan Xuanmen Bay Sightseeing Agriculture Park</a>,\n",
       " <a href=\"/location.htm?id=65759\">Yuhuan</a>,\n",
       " <a href=\"/location.htm?id=57181\">Taizhou</a>,\n",
       " <a href=\"/location.htm?id=56467\">Zhejiang</a>,\n",
       " <a href=\"/location.htm?id=26380\">China</a>,\n",
       " <a href=\"/19426.htm\">Runaway Train</a>,\n",
       " <a href=\"/19425.htm\">Llandudno Pier</a>,\n",
       " <a href=\"/location.htm?id=65758\">Llandudno</a>,\n",
       " <a href=\"/location.htm?id=61884\">Conwy</a>,\n",
       " <a href=\"/location.htm?id=26110\">Wales</a>,\n",
       " <a href=\"/location.htm?id=26828\">United Kingdom</a>,\n",
       " <a href=\"/19424.htm\">unknown</a>,\n",
       " <a href=\"/16399.htm\">Ashxobod Sayilgohi</a>,\n",
       " <a href=\"/location.htm?id=64845\">Yashnobod</a>,\n",
       " <a href=\"/location.htm?id=64842\">Tashkent City</a>,\n",
       " <a href=\"/location.htm?id=26708\">Uzbekistan</a>,\n",
       " <a href=\"/19423.htm\">unknown</a>,\n",
       " <a href=\"/19422.htm\">Anhor Park</a>,\n",
       " <a href=\"/location.htm?id=65757\">Shaykhontohur</a>,\n",
       " <a href=\"/location.htm?id=64842\">Tashkent City</a>,\n",
       " <a href=\"/location.htm?id=26708\">Uzbekistan</a>,\n",
       " <a href=\"/19421.htm\">Fruit Worm Coaster</a>,\n",
       " <a href=\"/19420.htm\">Jiangfu Park</a>,\n",
       " <a href=\"/location.htm?id=57212\">Chaoyang</a>,\n",
       " <a href=\"/location.htm?id=26409\">Beijing</a>,\n",
       " <a href=\"/location.htm?id=26380\">China</a>,\n",
       " <a href=\"http://www.youtube.com/watch?v=2YS6DiMygww\" rel=\"noopener\" style='background-image: url(\"https://i.ytimg.com/vi/2YS6DiMygww/default.jpg\");' target=\"_blank\"><div><span>2:05</span></div></a>,\n",
       " <a href=\"/16962.htm\">Tidal Wave</a>,\n",
       " <a href=\"/4811.htm\">Clarence Pier</a>,\n",
       " <a href=\"/location.htm?id=26194\">Portsmouth</a>,\n",
       " <a href=\"/location.htm?id=26193\">Hampshire</a>,\n",
       " <a href=\"/location.htm?id=26161\">England</a>,\n",
       " <a href=\"/location.htm?id=26828\">United Kingdom</a>,\n",
       " <a href=\"http://www.youtube.com/watch?v=8YMffjDAIQc\" rel=\"noopener\" style='background-image: url(\"https://i.ytimg.com/vi/8YMffjDAIQc/default.jpg\");' target=\"_blank\"><div><span>3:43</span></div></a>,\n",
       " <a href=\"/15368.htm\">Wonder Woman Golden Lasso Coaster</a>,\n",
       " <a href=\"/4538.htm\">Six Flags Fiesta Texas</a>,\n",
       " <a href=\"/location.htm?id=22610\">San Antonio</a>,\n",
       " <a href=\"/location.htm?id=21593\">Texas</a>,\n",
       " <a href=\"/location.htm?id=59\">United States</a>,\n",
       " <a href=\"http://www.youtube.com/watch?v=G1M4l53QVgI\" rel=\"noopener\" style='background-image: url(\"https://i.ytimg.com/vi/G1M4l53QVgI/default.jpg\");' target=\"_blank\"><div><span>3:03</span></div></a>,\n",
       " <a href=\"/843.htm\">Millennium</a>,\n",
       " <a href=\"/4812.htm\">Fantasy Island</a>,\n",
       " <a href=\"/location.htm?id=56690\">Ingoldmells</a>,\n",
       " <a href=\"/location.htm?id=26224\">Lincolnshire</a>,\n",
       " <a href=\"/location.htm?id=26161\">England</a>,\n",
       " <a href=\"/location.htm?id=26828\">United Kingdom</a>,\n",
       " <a href=\"http://www.youtube.com/watch?v=gLRodmRbEi8\" rel=\"noopener\" style='background-image: url(\"https://i.ytimg.com/vi/gLRodmRbEi8/default.jpg\");' target=\"_blank\"><div><span>2:21</span></div></a>,\n",
       " <a href=\"/17658.htm\">Jersey Devil Coaster</a>,\n",
       " <a href=\"/4534.htm\">Six Flags Great Adventure</a>,\n",
       " <a href=\"/location.htm?id=14499\">Jackson</a>,\n",
       " <a href=\"/location.htm?id=14116\">New Jersey</a>,\n",
       " <a href=\"/location.htm?id=59\">United States</a>,\n",
       " <a href=\"http://www.youtube.com/watch?v=95M8OSjFFDY\" rel=\"noopener\" style='background-image: url(\"https://i.ytimg.com/vi/95M8OSjFFDY/default.jpg\");' target=\"_blank\"><div><span>1:11</span></div></a>,\n",
       " <a href=\"/19376.htm\">Fønix</a>,\n",
       " <a href=\"/4908.htm\">Fårup Sommerland</a>,\n",
       " <a href=\"/location.htm?id=62463\">Blokhus</a>,\n",
       " <a href=\"/location.htm?id=62462\">Nordjylland</a>,\n",
       " <a href=\"/location.htm?id=26269\">Denmark</a>,\n",
       " <a href=\"http://www.youtube.com/watch?v=dvXmovxftXc\" rel=\"noopener\" style='background-image: url(\"https://i.ytimg.com/vi/dvXmovxftXc/default.jpg\");' target=\"_blank\"><div><span>2:49</span></div></a>,\n",
       " <a href=\"/12838.htm\">Flight of the Pterosaur</a>,\n",
       " <a href=\"/4819.htm\">Paultons Park</a>,\n",
       " <a href=\"/location.htm?id=26196\">Romsey</a>,\n",
       " <a href=\"/location.htm?id=26193\">Hampshire</a>,\n",
       " <a href=\"/location.htm?id=26161\">England</a>,\n",
       " <a href=\"/location.htm?id=26828\">United Kingdom</a>,\n",
       " <a href=\"http://www.youtube.com/watch?v=uZJ_9h__RxM\" rel=\"noopener\" style='background-image: url(\"https://i.ytimg.com/vi/uZJ_9h__RxM/default.jpg\");' target=\"_blank\"><div><span>1:36</span></div></a>,\n",
       " <a href=\"/16189.htm\">Fighter Jet</a>,\n",
       " <a href=\"/16187.htm\">Fanta Park Glorious Orient</a>,\n",
       " <a href=\"/location.htm?id=58829\">Cixi</a>,\n",
       " <a href=\"/location.htm?id=56466\">Ningbo</a>,\n",
       " <a href=\"/location.htm?id=56467\">Zhejiang</a>,\n",
       " <a href=\"/location.htm?id=26380\">China</a>,\n",
       " <a href=\"http://www.youtube.com/watch?v=k6Q67EZO-EU\" rel=\"noopener\" style='background-image: url(\"https://i.ytimg.com/vi/k6Q67EZO-EU/default.jpg\");' target=\"_blank\"><div><span>2:34</span></div></a>,\n",
       " <a href=\"/4783.htm\">Disney California Adventure Park</a>,\n",
       " <a href=\"/location.htm?id=2392\">Anaheim</a>,\n",
       " <a href=\"/location.htm?id=1499\">California</a>,\n",
       " <a href=\"/location.htm?id=59\">United States</a>,\n",
       " <a href=\"http://www.youtube.com/watch?v=sle0xWV5-QA\" rel=\"noopener\" style='background-image: url(\"https://i.ytimg.com/vi/sle0xWV5-QA/default.jpg\");' target=\"_blank\"><div><span>2:18</span></div></a>,\n",
       " <a href=\"/18666.htm\">Movie Park Studios</a>,\n",
       " <a href=\"/4869.htm\">Movie Park Germany</a>,\n",
       " <a href=\"/location.htm?id=25878\">Bottrop</a>,\n",
       " <a href=\"/location.htm?id=25869\">North Rhine-Westphalia</a>,\n",
       " <a href=\"/location.htm?id=25853\">Germany</a>,\n",
       " <a aria-label=\"Menu\" class=\"head\" data-close=\"goh\" data-open=\"gox\" data-target=\"menudrop\" href=\"#\" id=\"menu\"><p></p><p></p><p></p><p></p><p></p></a>,\n",
       " <a aria-label=\"Search\" data-aux=\"qsf\" data-focus=\"qs\" data-target=\"lookdrop\" href=\"#\" id=\"look\"><svg viewbox=\"0 0 32 32\" xmlns=\"http://www.w3.org/2000/svg\"><path d=\"M.88,26.87a3,3 1 1 0 4.25,4.25l5.65,-5.65a13.8,13.8 0 1 0 -4.25,-4.25zM26,13.8a7.8,7.8 0 0 1 -15.6,0a7.8,7.8 0 0 1 15.6,0\"></path></svg></a>,\n",
       " <a aria-label=\"Home\" class=\"svg\" href=\"/\" id=\"home\"></a>,\n",
       " <a aria-label=\"What's Nearby\" href=\"/lo.htm\" id=\"find\"><svg viewbox=\"0 0 2 2\" xmlns=\"http://www.w3.org/2000/svg\"><path d=\"M2 0L1 2L1 1L0 1Z\"></path></svg></a>,\n",
       " <a aria-label=\"Preferences\" data-target=\"signdrop\" href=\"#\" id=\"sign\"><svg viewbox=\"0 0 360 360\" xmlns=\"http://www.w3.org/2000/svg\"><circle cx=\"180\" cy=\"180\" fill=\"#00FF00\" fill-opacity=\"0\" id=\"test\" r=\"180\"></circle><path d=\"m180,0 a180,180 0 0 0 0,360 180,180 0 0 0 0,-360Z M70,303 a165,165 0 1 1 220,0 110,110 0 1 0 -220,0z\"></path><circle cx=\"180\" cy=\"133\" r=\"72\"></circle></svg></a>,\n",
       " <a href=\"/r.htm?ot=2&amp;op=2022\">New for 2022</a>,\n",
       " <a href=\"/r.htm?ot=2&amp;op=2021\">New for 2021</a>,\n",
       " <a href=\"/r.htm?ot=2&amp;op=2020\">New for 2020</a>,\n",
       " <a href=\"/census.htm\">Census</a>,\n",
       " <a href=\"/rhr.htm\">Record Holders</a>,\n",
       " <a href=\"/location.htm\">World View</a>,\n",
       " <a href=\"/ib.htm\">Inversions</a>,\n",
       " <a href=\"/os.htm?ot=2\">Roller Coasters</a>,\n",
       " <a href=\"/os.htm?ot=3\">Amusement Parks</a>,\n",
       " <a href=\"/os.htm?ot=12\">Companies</a>,\n",
       " <a href=\"/os.htm?ot=13\">People</a>,\n",
       " <a href=\"/g.htm\">Glossary</a>,\n",
       " <a href=\"/about.htm\">About This Site</a>,\n",
       " <a href=\"/tou.htm\">Terms Of Use</a>,\n",
       " <a href=\"/contact.htm\">Contact Us</a>,\n",
       " <a href=\"#\" id=\"fpw\">Forgot password?</a>]"
      ]
     },
     "execution_count": 31,
     "metadata": {},
     "output_type": "execute_result"
    }
   ],
   "source": [
    "soup.find_all('a')"
   ]
  },
  {
   "cell_type": "code",
   "execution_count": 32,
   "metadata": {},
   "outputs": [
    {
     "data": {
      "text/plain": [
       "'https://rcdb.com/252.htm#p=16074'"
      ]
     },
     "execution_count": 32,
     "metadata": {},
     "output_type": "execute_result"
    }
   ],
   "source": [
    "image_url = soup.find('a')['href']\n",
    "featured_image_url = f'{url}{image_url}'\n",
    "featured_image_url"
   ]
  },
  {
   "cell_type": "code",
   "execution_count": 33,
   "metadata": {},
   "outputs": [
    {
     "data": {
      "text/plain": [
       "'Revolution'"
      ]
     },
     "execution_count": 33,
     "metadata": {},
     "output_type": "execute_result"
    }
   ],
   "source": [
    "coaster_name = soup.find_all('a')[2].get_text()\n",
    "coaster_name"
   ]
  },
  {
   "cell_type": "code",
   "execution_count": 34,
   "metadata": {},
   "outputs": [
    {
     "data": {
      "text/plain": [
       "'Libertyland'"
      ]
     },
     "execution_count": 34,
     "metadata": {},
     "output_type": "execute_result"
    }
   ],
   "source": [
    "coaster_park = soup.find_all('a')[3].get_text()\n",
    "coaster_park"
   ]
  },
  {
   "cell_type": "code",
   "execution_count": 35,
   "metadata": {},
   "outputs": [
    {
     "data": {
      "text/plain": [
       "'Memphis'"
      ]
     },
     "execution_count": 35,
     "metadata": {},
     "output_type": "execute_result"
    }
   ],
   "source": [
    "coaster_location1 = soup.find_all('a')[4].get_text()\n",
    "coaster_location1"
   ]
  },
  {
   "cell_type": "code",
   "execution_count": 36,
   "metadata": {},
   "outputs": [
    {
     "data": {
      "text/plain": [
       "'Tennessee'"
      ]
     },
     "execution_count": 36,
     "metadata": {},
     "output_type": "execute_result"
    }
   ],
   "source": [
    "coaster_location2 = soup.find_all('a')[5].get_text()\n",
    "coaster_location2"
   ]
  },
  {
   "cell_type": "code",
   "execution_count": 37,
   "metadata": {},
   "outputs": [
    {
     "data": {
      "text/plain": [
       "'United States'"
      ]
     },
     "execution_count": 37,
     "metadata": {},
     "output_type": "execute_result"
    }
   ],
   "source": [
    "coaster_location3 = soup.find_all('a')[6].get_text()\n",
    "coaster_location3"
   ]
  },
  {
   "cell_type": "code",
   "execution_count": 38,
   "metadata": {},
   "outputs": [
    {
     "data": {
      "text/plain": [
       "'Arrow Dynamics'"
      ]
     },
     "execution_count": 38,
     "metadata": {},
     "output_type": "execute_result"
    }
   ],
   "source": [
    "coaster_status = soup.find_all('a')[7].get_text()\n",
    "coaster_status"
   ]
  },
  {
   "cell_type": "code",
   "execution_count": null,
   "metadata": {},
   "outputs": [],
   "source": []
  }
 ],
 "metadata": {
  "kernelspec": {
   "display_name": "Python [conda env:PythonData] *",
   "language": "python",
   "name": "conda-env-PythonData-py"
  },
  "language_info": {
   "codemirror_mode": {
    "name": "ipython",
    "version": 3
   },
   "file_extension": ".py",
   "mimetype": "text/x-python",
   "name": "python",
   "nbconvert_exporter": "python",
   "pygments_lexer": "ipython3",
   "version": "3.6.10"
  }
 },
 "nbformat": 4,
 "nbformat_minor": 4
}
